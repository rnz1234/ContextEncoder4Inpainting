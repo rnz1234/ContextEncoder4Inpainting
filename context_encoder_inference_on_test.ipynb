{
 "cells": [
  {
   "cell_type": "code",
   "execution_count": null,
   "id": "58c5f769",
   "metadata": {
    "scrolled": false
   },
   "outputs": [],
   "source": [
    "%load_ext autoreload\n",
    "%autoreload 2\n",
    "%matplotlib inline\n",
    "\n",
    "from inference_module import *\n",
    "import config as cfg\n",
    "\n",
    "\n",
    "photos_blocks_num = 20\n",
    "photos_central_block_num = 20\n",
    "photos_region = 4\n",
    "monet_blocks_num = 10\n",
    "monet_central_block_num = 10"
   ]
  },
  {
   "cell_type": "markdown",
   "id": "433124a2",
   "metadata": {},
   "source": [
    "# photos_blocks"
   ]
  },
  {
   "cell_type": "code",
   "execution_count": null,
   "id": "ab2c8c02",
   "metadata": {
    "scrolled": true
   },
   "outputs": [],
   "source": [
    "# photos_blocks\n",
    "for image_id in range(1, photos_blocks_num+1):\n",
    "    input_image_name = str(image_id) + '.jpeg_result_multiple_.jpg'\n",
    "    mask_name = str(image_id) + '.jpeg_mask_multiple_.jpg'\n",
    "    dir_name = 'photos_blocks/'\n",
    "\n",
    "    infer_inpainting(input_image_path=cfg.BASE_PROJECT_PATH+'/data/test/' + dir_name + input_image_name,\n",
    "                     input_mask_path=cfg.BASE_PROJECT_PATH+'/data/test/' + dir_name + mask_name, \n",
    "                     model='photo',\n",
    "                     display_output=True)"
   ]
  },
  {
   "cell_type": "markdown",
   "id": "97c57ac8",
   "metadata": {},
   "source": [
    "# photos_central_block"
   ]
  },
  {
   "cell_type": "code",
   "execution_count": null,
   "id": "d1a3ea14",
   "metadata": {
    "scrolled": false
   },
   "outputs": [],
   "source": [
    "# photos_central_block\n",
    "print(\"photos_central_block\")\n",
    "for image_id in range(1, photos_central_block_num+1):\n",
    "    input_image_name = str(image_id) + '.jpeg_result_central_block_.jpg'\n",
    "    mask_name = str(image_id) + '.jpeg_mask_central_block_.jpg'\n",
    "    dir_name = 'photos_central_block/'\n",
    "\n",
    "    infer_inpainting(input_image_path=cfg.BASE_PROJECT_PATH+'/data/test/' + dir_name + input_image_name,\n",
    "                     input_mask_path=cfg.BASE_PROJECT_PATH+'/data/test/' + dir_name + mask_name, \n",
    "                     model='photo',\n",
    "                     display_output=True)\n"
   ]
  },
  {
   "cell_type": "markdown",
   "id": "aac9108d",
   "metadata": {},
   "source": [
    "# photos_region"
   ]
  },
  {
   "cell_type": "code",
   "execution_count": null,
   "id": "9a7bfa84",
   "metadata": {
    "scrolled": false
   },
   "outputs": [],
   "source": [
    "# photos_region\n",
    "print(\"photos_region\")\n",
    "for image_id in range(1, photos_region_num+1):\n",
    "    input_image_name = str(image_id) + '.jpg'\n",
    "    mask_name = str(image_id) + 'mask.jpg'\n",
    "    dir_name = 'photos_region/'\n",
    "\n",
    "    infer_inpainting(input_image_path=cfg.BASE_PROJECT_PATH+'/data/test/' + dir_name + input_image_name,\n",
    "                     input_mask_path=cfg.BASE_PROJECT_PATH+'/data/test/' + dir_name + mask_name, \n",
    "                     model='photo',\n",
    "                     display_output=True)"
   ]
  },
  {
   "cell_type": "markdown",
   "id": "750ac2f8",
   "metadata": {},
   "source": [
    "# monet_blocks"
   ]
  },
  {
   "cell_type": "code",
   "execution_count": null,
   "id": "fededd84",
   "metadata": {
    "scrolled": false
   },
   "outputs": [],
   "source": [
    "# monet_blocks\n",
    "for image_id in range(1, monet_blocks_num+1):\n",
    "    input_image_name = str(image_id) + '_result_multiple_.jpg'\n",
    "    mask_name = str(image_id) + '_mask_multiple_.jpg'\n",
    "    dir_name = 'monet_blocks/'\n",
    "\n",
    "    infer_inpainting(input_image_path=cfg.BASE_PROJECT_PATH+'/data/test/' + dir_name + input_image_name,\n",
    "                     input_mask_path=cfg.BASE_PROJECT_PATH+'/data/test/' + dir_name + mask_name, \n",
    "                     model='monet',\n",
    "                     display_output=True)"
   ]
  },
  {
   "cell_type": "markdown",
   "id": "b3c2ddef",
   "metadata": {},
   "source": [
    "# monet_central_block"
   ]
  },
  {
   "cell_type": "code",
   "execution_count": null,
   "id": "35c20b4a",
   "metadata": {
    "scrolled": true
   },
   "outputs": [],
   "source": [
    "# monet_central_block\n",
    "for image_id in range(1, monet_central_block_num+1):\n",
    "    input_image_name = str(image_id) + '_result_central_block_.jpg'\n",
    "    mask_name = str(image_id) + '_mask_central_block_.jpg'\n",
    "    dir_name = 'monet_central_block/'\n",
    "\n",
    "    infer_inpainting(input_image_path=cfg.BASE_PROJECT_PATH+'/data/test/' + dir_name + input_image_name,\n",
    "                     input_mask_path=cfg.BASE_PROJECT_PATH+'/data/test/' + dir_name + mask_name, \n",
    "                     model='monet',\n",
    "                     display_output=True)"
   ]
  },
  {
   "cell_type": "code",
   "execution_count": null,
   "id": "b90aed43",
   "metadata": {
    "scrolled": false
   },
   "outputs": [],
   "source": []
  }
 ],
 "metadata": {
  "kernelspec": {
   "display_name": "Python 3 (ipykernel)",
   "language": "python",
   "name": "python3"
  },
  "language_info": {
   "codemirror_mode": {
    "name": "ipython",
    "version": 3
   },
   "file_extension": ".py",
   "mimetype": "text/x-python",
   "name": "python",
   "nbconvert_exporter": "python",
   "pygments_lexer": "ipython3",
   "version": "3.8.12"
  }
 },
 "nbformat": 4,
 "nbformat_minor": 5
}
