{
 "cells": [
  {
   "cell_type": "code",
   "execution_count": null,
   "id": "12b59f8e",
   "metadata": {
    "scrolled": true
   },
   "outputs": [],
   "source": [
    "%load_ext autoreload\n",
    "%autoreload 2\n",
    "%matplotlib inline\n",
    "\n",
    "from inference_module import *\n",
    "import config as cfg\n",
    "\n",
    "\n",
    "photos_blocks_num = 19\n",
    "photos_central_block_num = 19\n",
    "photos_region_num = 4\n",
    "monet_blocks_num = 10\n",
    "monet_central_block_num = 10"
   ]
  },
  {
   "cell_type": "markdown",
   "id": "2ecf85a2",
   "metadata": {},
   "source": [
    "# photos_blocks"
   ]
  },
  {
   "cell_type": "code",
   "execution_count": null,
   "id": "2f428426",
   "metadata": {
    "scrolled": false
   },
   "outputs": [],
   "source": [
    "# photos_blocks\n",
    "for image_id in range(1, photos_blocks_num+1):\n",
    "    input_image_name = str(image_id) + '.jpeg_result_multiple_.jpg'\n",
    "    mask_name = str(image_id) + '.jpeg_mask_multiple_.jpg'\n",
    "    dir_name = 'photos_blocks/'\n",
    "\n",
    "    infer_inpainting(input_image_path=cfg.BASE_PROJECT_PATH+'/data/test/' + dir_name + input_image_name,\n",
    "                     input_mask_path=cfg.BASE_PROJECT_PATH+'/data/test/' + dir_name + mask_name, \n",
    "                     model='photo',\n",
    "                     display_output=True,\n",
    "                     pretrained_generator_exact_path=cfg.BASE_PROJECT_PATH + 'models/photo/good_model_random_block/RandomBlock_gen_full_weights.pt')"
   ]
  },
  {
   "cell_type": "markdown",
   "id": "5b5de6d4",
   "metadata": {},
   "source": [
    "# photos_central_block\n"
   ]
  },
  {
   "cell_type": "code",
   "execution_count": null,
   "id": "3f626692",
   "metadata": {
    "scrolled": true
   },
   "outputs": [],
   "source": [
    "# photos_central_block\n",
    "for image_id in range(1, photos_central_block_num+1):\n",
    "    input_image_name = str(image_id) + '.jpeg_result_central_block_.jpg'\n",
    "    mask_name = str(image_id) + '.jpeg_mask_central_block_.jpg'\n",
    "    dir_name = 'photos_central_block/'\n",
    "\n",
    "    infer_inpainting(input_image_path=cfg.BASE_PROJECT_PATH+'/data/test/' + dir_name + input_image_name,\n",
    "                     input_mask_path=cfg.BASE_PROJECT_PATH+'/data/test/' + dir_name + mask_name, \n",
    "                     model='photo',\n",
    "                     display_output=True)\n",
    "                     #pretrained_generator_exact_path=cfg.BASE_PROJECT_PATH + 'models/photo/good_model_central_region_64/CentralRegion_64_gen_full_weights.pt')\n"
   ]
  },
  {
   "cell_type": "markdown",
   "id": "5b631f4b",
   "metadata": {},
   "source": [
    "# photos_region"
   ]
  },
  {
   "cell_type": "code",
   "execution_count": null,
   "id": "ceb65ea0",
   "metadata": {
    "scrolled": true
   },
   "outputs": [],
   "source": [
    "# photos_region\n",
    "for image_id in range(1, photos_region_num+1):\n",
    "    input_image_name = str(image_id) + '.jpg'\n",
    "    mask_name = str(image_id) + 'mask.jpg'\n",
    "    dir_name = 'photos_region/'\n",
    "\n",
    "    infer_inpainting(input_image_path=cfg.BASE_PROJECT_PATH+'/data/test/' + dir_name + input_image_name,\n",
    "                     input_mask_path=cfg.BASE_PROJECT_PATH+'/data/test/' + dir_name + mask_name, \n",
    "                     model='photo',\n",
    "                     display_output=True)"
   ]
  },
  {
   "cell_type": "markdown",
   "id": "41fc99c2",
   "metadata": {},
   "source": [
    "# monet_blocks"
   ]
  },
  {
   "cell_type": "code",
   "execution_count": null,
   "id": "59a5aa73",
   "metadata": {
    "scrolled": true
   },
   "outputs": [],
   "source": [
    "# monet_blocks\n",
    "for image_id in range(1, monet_blocks_num+1):\n",
    "    input_image_name = str(image_id) + '_result_multiple_.jpg'\n",
    "    mask_name = str(image_id) + '_mask_multiple_.jpg'\n",
    "    dir_name = 'monet_blocks/'\n",
    "\n",
    "    infer_inpainting(input_image_path=cfg.BASE_PROJECT_PATH+'/data/test/' + dir_name + input_image_name,\n",
    "                     input_mask_path=cfg.BASE_PROJECT_PATH+'/data/test/' + dir_name + mask_name, \n",
    "                     model='monet',\n",
    "                     display_output=True)"
   ]
  },
  {
   "cell_type": "markdown",
   "id": "046c3ec4",
   "metadata": {},
   "source": [
    "# monet_central_block"
   ]
  },
  {
   "cell_type": "code",
   "execution_count": null,
   "id": "149e5dae",
   "metadata": {
    "scrolled": false
   },
   "outputs": [],
   "source": [
    "# monet_central_block\n",
    "for image_id in range(1, monet_central_block_num+1):\n",
    "    input_image_name = str(image_id) + '_result_central_block_.jpg'\n",
    "    mask_name = str(image_id) + '_mask_central_block_.jpg'\n",
    "    dir_name = 'monet_central_block/'\n",
    "\n",
    "    infer_inpainting(input_image_path=cfg.BASE_PROJECT_PATH+'/data/test/' + dir_name + input_image_name,\n",
    "                     input_mask_path=cfg.BASE_PROJECT_PATH+'/data/test/' + dir_name + mask_name, \n",
    "                     model='monet',\n",
    "                     display_output=True)\n",
    "                     #pretrained_generator_exact_path=cfg.BASE_PROJECT_PATH + 'models/monet/good_model_central_region_64/CentralRegion_64_gen_full_weights.pt')"
   ]
  },
  {
   "cell_type": "code",
   "execution_count": null,
   "id": "03ed9fce",
   "metadata": {
    "scrolled": true
   },
   "outputs": [],
   "source": []
  }
 ],
 "metadata": {
  "kernelspec": {
   "display_name": "Python 3 (ipykernel)",
   "language": "python",
   "name": "python3"
  },
  "language_info": {
   "codemirror_mode": {
    "name": "ipython",
    "version": 3
   },
   "file_extension": ".py",
   "mimetype": "text/x-python",
   "name": "python",
   "nbconvert_exporter": "python",
   "pygments_lexer": "ipython3",
   "version": "3.8.12"
  }
 },
 "nbformat": 4,
 "nbformat_minor": 5
}
